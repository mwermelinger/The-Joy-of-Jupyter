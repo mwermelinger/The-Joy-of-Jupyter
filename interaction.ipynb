{
 "cells": [
  {
   "cell_type": "markdown",
   "metadata": {},
   "source": [
    "# Interaction\n",
    "\n",
    "This notebook is part of [_The Joy of Jupyter_](https://github.com/mwermelinger/The-Joy-of-Jupyter), an introduction on how to use Jupyter notebooks and what can be done with them.\n",
    "\n",
    "It shows how to add interactive elements to a notebook."
   ]
  },
  {
   "cell_type": "markdown",
   "metadata": {},
   "source": [
    "## Input\n",
    "\n",
    "Consider the following function."
   ]
  },
  {
   "cell_type": "code",
   "execution_count": 1,
   "metadata": {
    "collapsed": true
   },
   "outputs": [],
   "source": [
    "def to_pay(people, bill, per_person):\n",
    "    \"\"\"Return the amount to pay, overall or per person, at a restaurant.\n",
    "    \n",
    "    people: a positive integer\n",
    "    bill: a positive float, the cost of food and drink consumed\n",
    "    per_person: a Boolean\n",
    "    return: add 15% service to bill if more than 4 people, and divide (or not) by people\n",
    "    \"\"\"\n",
    "    if people > 4:\n",
    "        result = bill * 1.15\n",
    "    else:\n",
    "        result = bill\n",
    "    if per_person:\n",
    "        result = result / people\n",
    "    return round(result, 2)"
   ]
  },
  {
   "cell_type": "markdown",
   "metadata": {},
   "source": [
    "It is possible to use Python's built-in `input` function in notebooks. "
   ]
  },
  {
   "cell_type": "code",
   "execution_count": 2,
   "metadata": {},
   "outputs": [
    {
     "name": "stdout",
     "output_type": "stream",
     "text": [
      "How many people? 5\n",
      "What was the cost of food and drink? 100\n",
      "Compute the share of each person? (Y/N) y\n"
     ]
    },
    {
     "data": {
      "text/plain": [
       "23.0"
      ]
     },
     "execution_count": 2,
     "metadata": {},
     "output_type": "execute_result"
    }
   ],
   "source": [
    "people = int(input('How many people? '))\n",
    "bill = float(input('What was the cost of food and drink? '))\n",
    "per_person = input('Compute the share of each person? (Y/N) ') in ['Y', 'y']\n",
    "to_pay(people, bill, per_person)"
   ]
  },
  {
   "cell_type": "markdown",
   "metadata": {},
   "source": [
    "The above code has two shortcomings.\n",
    "\n",
    "First, it's not very robust. It will accept negative numbers, crash if the first two inputs are not numbers, and interpret 'yes' like 'no'. To make sure only admissible values are passed to the function I'd have to write a lot more code.\n",
    "\n",
    "Second, if the user wants to see the amount to pay for various input combinations, they have to run the code cell over and over again and type all inputs each time. It's tedious. "
   ]
  },
  {
   "cell_type": "markdown",
   "metadata": {},
   "source": [
    "## Interact\n",
    "\n",
    "Notebooks allow to quickly build simple interactive interfaces. "
   ]
  },
  {
   "cell_type": "code",
   "execution_count": 3,
   "metadata": {},
   "outputs": [
    {
     "data": {
      "application/vnd.jupyter.widget-view+json": {
       "model_id": "cdba23d30df848a89bb1268389a41b98",
       "version_major": 2,
       "version_minor": 0
      },
      "text/plain": [
       "A Jupyter Widget"
      ]
     },
     "metadata": {},
     "output_type": "display_data"
    },
    {
     "data": {
      "text/plain": [
       "<function __main__.to_pay>"
      ]
     },
     "execution_count": 3,
     "metadata": {},
     "output_type": "execute_result"
    }
   ],
   "source": [
    "from ipywidgets import interact\n",
    "\n",
    "interact(to_pay, people=(1,15), bill=(0.0, 500.0, 10.0), per_person=True)"
   ]
  },
  {
   "cell_type": "markdown",
   "metadata": {},
   "source": [
    "The single line of code states: \"I want to interact with the `to_pay` function. I want to be able to change the `people` parameter between 1 and 15, the `bill` parameter between 0 and 500 in steps of 10, and the `per_person` parameter should be initially true. Moreover, the `bill` is a float.\"\n",
    "\n",
    "The latter is indicated by using floating-point numbers for the range and step values.\n",
    "\n",
    "From that succinct description, the computer generates \n",
    "sliders and textboxes for numeric parameters and tickboxes for Boolean parameters.\n",
    "Moreover, it sets the initial value of numeric parameters to the midpoint of the range, \n",
    "and calls the function with those initial values.\n",
    "Afterwards, it calls the function every time the user changes one parameter.\n",
    "\n",
    "If you click on a slider's circle, it becomes blue and then \n",
    "you can increase and decrease the value using the arrow keys.\n",
    "\n",
    "You can also directly type a value into a textbox and press ENTER. \n",
    "This is useful if you want to provide a value \n",
    "that can't be obtained by dragging the slider, e.g. a bill of 105.78. \n",
    "\n",
    "If you type an inadmissible value in a textbox, for example a negative number or text, \n",
    "the current value will remain unchanged or \n",
    "it will be automatically set to the minimum or maximum.\n",
    "\n",
    "In other words, a single code of line generates an interactive interface that \n",
    "prevents inadmissible values and lets the user very quickly try out various input combinations."
   ]
  },
  {
   "cell_type": "markdown",
   "metadata": {},
   "source": [
    "## Setting initial values\n",
    "\n",
    "In Python, function parameters can have default values, which will be used if the caller doesn't provide any value for the parameter. The default values will be used as the initial value for the interactive interface. \n",
    "\n",
    "To see this, let's assume most table bookings are for 2 people, spending on average £50,\n",
    "and not sharing the bill."
   ]
  },
  {
   "cell_type": "code",
   "execution_count": 4,
   "metadata": {},
   "outputs": [
    {
     "data": {
      "application/vnd.jupyter.widget-view+json": {
       "model_id": "5283bf01ae7b48099b3f071da7d811d6",
       "version_major": 2,
       "version_minor": 0
      },
      "text/plain": [
       "A Jupyter Widget"
      ]
     },
     "metadata": {},
     "output_type": "display_data"
    },
    {
     "data": {
      "text/plain": [
       "<function __main__.default_to_pay>"
      ]
     },
     "execution_count": 4,
     "metadata": {},
     "output_type": "execute_result"
    }
   ],
   "source": [
    "def default_to_pay(people=2, bill=50, per_person=False):\n",
    "    \"\"\"This function just provides default values for the amount to pay.\"\"\"\n",
    "    return to_pay(people, bill, per_person)\n",
    "\n",
    "interact(default_to_pay, people=(1,10), bill=(0, 500, 10.0))"
   ]
  },
  {
   "cell_type": "markdown",
   "metadata": {},
   "source": [
    "There are three things to note:\n",
    "\n",
    "- The interface starts with the default values, not the mid-range values.\n",
    "- `interact` doesn't require a value for `per_person`, because there is a default value for it.\n",
    "- It is enough to state the minimum, maximum or step as a float for the interface to understand the parameter must be a float."
   ]
  },
  {
   "cell_type": "markdown",
   "metadata": {},
   "source": [
    "## Interactive charts\n",
    "\n",
    "If the function to interact with plots a chart instead of returning, then the chart will change every time we change its parameters.\n",
    "\n",
    "Consider the following code, which plots one of several typical mathematical functions in [algorithmic complexity](complexity.ipynb) analysis."
   ]
  },
  {
   "cell_type": "code",
   "execution_count": 5,
   "metadata": {},
   "outputs": [],
   "source": [
    "import matplotlib.pyplot as plt\n",
    "%matplotlib inline\n",
    "\n",
    "from math import log\n",
    "\n",
    "complexities = ['1', 'log n', 'n',  'n^2', '2^n']\n",
    "\n",
    "def show(max_x, complexity):\n",
    "    \"\"\"Plot a complexity function, from 0 to max_x.\n",
    "    The y range plotted depends on max_x, to make comparisons between functions easier.\n",
    "    \n",
    "    complexity: one of the strings given in the `complexities` constant\n",
    "    max_x: a positive integer\n",
    "    \"\"\"\n",
    "    if complexity == '1':\n",
    "        y = [1 for x in range(max_x)]\n",
    "    elif complexity == 'log n':\n",
    "        y = [log(x) for x in range(1, max_x)]\n",
    "    elif complexity == 'n':\n",
    "        y = [x for x in range(max_x)]\n",
    "    elif complexity == 'n^2': \n",
    "        y = [x*x for x in range(max_x)]\n",
    "    else:\n",
    "        y = [2**x for x in range(max_x)]\n",
    "    plt.title('O(' + complexity + ')')\n",
    "    plt.ylim(0, (max_x // 2) ** 2)\n",
    "    plt.plot(y)\n",
    "    plt.show()"
   ]
  },
  {
   "cell_type": "markdown",
   "metadata": {},
   "source": [
    "I can now interactively choose which complexity function to plot and up to which x-value."
   ]
  },
  {
   "cell_type": "code",
   "execution_count": 6,
   "metadata": {},
   "outputs": [
    {
     "data": {
      "application/vnd.jupyter.widget-view+json": {
       "model_id": "aff2e8bab7ee4082a13e20e6615f010a",
       "version_major": 2,
       "version_minor": 0
      },
      "text/plain": [
       "A Jupyter Widget"
      ]
     },
     "metadata": {},
     "output_type": "display_data"
    },
    {
     "data": {
      "text/plain": [
       "<function __main__.show>"
      ]
     },
     "execution_count": 6,
     "metadata": {},
     "output_type": "execute_result"
    }
   ],
   "source": [
    "interact(show, max_x=(10, 500, 20), complexity=complexities)"
   ]
  },
  {
   "cell_type": "markdown",
   "metadata": {},
   "source": [
    "As you can see, listing the possible values for a parameter will generate a dropdown menu.\n",
    "\n",
    "If instead of a list I provide a dictionary, the menu will show the keys, and the value corresponding to the selected key will be passed to the Python function."
   ]
  },
  {
   "cell_type": "code",
   "execution_count": 7,
   "metadata": {},
   "outputs": [
    {
     "data": {
      "application/vnd.jupyter.widget-view+json": {
       "model_id": "6ad5d161e8b040fcbc81c68dfaad8667",
       "version_major": 2,
       "version_minor": 0
      },
      "text/plain": [
       "A Jupyter Widget"
      ]
     },
     "metadata": {},
     "output_type": "display_data"
    },
    {
     "data": {
      "text/plain": [
       "<function __main__.show>"
      ]
     },
     "execution_count": 7,
     "metadata": {},
     "output_type": "execute_result"
    }
   ],
   "source": [
    "interact(show, max_x=(10, 500, 20), complexity={\n",
    "    'constant':'1', 'logarithmic':'log n', 'linear':'n', \n",
    "    'quadratic':'n^2', 'exponential':'2^n'})"
   ]
  },
  {
   "cell_type": "markdown",
   "metadata": {},
   "source": [
    "**Activity:** Add or change code so that the interface initially shows a logarithmic function in the range 0 to 10."
   ]
  }
 ],
 "metadata": {
  "kernelspec": {
   "display_name": "Python 3",
   "language": "python",
   "name": "python3"
  },
  "language_info": {
   "codemirror_mode": {
    "name": "ipython",
    "version": 3
   },
   "file_extension": ".py",
   "mimetype": "text/x-python",
   "name": "python",
   "nbconvert_exporter": "python",
   "pygments_lexer": "ipython3",
   "version": "3.6.2"
  }
 },
 "nbformat": 4,
 "nbformat_minor": 2
}
