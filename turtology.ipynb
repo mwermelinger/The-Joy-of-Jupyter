{
 "cells": [
  {
   "cell_type": "markdown",
   "metadata": {},
   "source": [
    "# Turtle graphics\n",
    "\n",
    "This notebook is part of [_The Joy of Jupyter_](https://github.com/mwermelinger/The-Joy-of-Jupyter), which explains how to use and publish Jupyter Notebooks."
   ]
  },
  {
   "cell_type": "markdown",
   "metadata": {},
   "source": [
    "[Turtle graphics](https://en.wikipedia.org/wiki/Turtle_graphics) can be easily included in notebooks.\n",
    "First create a big enough window for the turtle to move around."
   ]
  },
  {
   "cell_type": "code",
   "execution_count": null,
   "metadata": {
    "collapsed": true
   },
   "outputs": [],
   "source": [
    "from turtle import *\n",
    "setup(200, 200)"
   ]
  },
  {
   "cell_type": "markdown",
   "metadata": {},
   "source": [
    "Now it go boldly where no turtle has gone before..."
   ]
  },
  {
   "cell_type": "code",
   "execution_count": null,
   "metadata": {
    "collapsed": true
   },
   "outputs": [],
   "source": [
    "forward(50)"
   ]
  },
  {
   "cell_type": "markdown",
   "metadata": {},
   "source": [
    "...and turn around."
   ]
  },
  {
   "cell_type": "code",
   "execution_count": null,
   "metadata": {
    "collapsed": true
   },
   "outputs": [],
   "source": [
    "left(180)"
   ]
  },
  {
   "cell_type": "markdown",
   "metadata": {},
   "source": [
    "Rinse and repeat (aka the ping-pong turtle)."
   ]
  },
  {
   "cell_type": "code",
   "execution_count": null,
   "metadata": {
    "collapsed": true
   },
   "outputs": [],
   "source": [
    "for times in range(5):\n",
    "    forward(50)\n",
    "    left(180)"
   ]
  },
  {
   "cell_type": "markdown",
   "metadata": {},
   "source": [
    "Where's Wally, I mean, the turtle?"
   ]
  },
  {
   "cell_type": "code",
   "execution_count": null,
   "metadata": {},
   "outputs": [],
   "source": [
    "position()"
   ]
  },
  {
   "cell_type": "markdown",
   "metadata": {},
   "source": [
    "A ninja turtle is only occasionaly visible."
   ]
  },
  {
   "cell_type": "code",
   "execution_count": null,
   "metadata": {},
   "outputs": [],
   "source": [
    "reset()\n",
    "hideturtle()\n",
    "for times in range(5):\n",
    "    forward(50)\n",
    "    left(180)\n",
    "showturtle()"
   ]
  },
  {
   "cell_type": "markdown",
   "metadata": {},
   "source": [
    "**Activity:** Change the code above so that the ninja turtle is only visible when it turns around. Do not change the first line."
   ]
  },
  {
   "cell_type": "markdown",
   "metadata": {},
   "source": [
    "In a computer, turtles can move really fast! Here's a more interesting example. "
   ]
  },
  {
   "cell_type": "code",
   "execution_count": null,
   "metadata": {},
   "outputs": [],
   "source": [
    "def tree(length):\n",
    "    \"\"\"Draw a symmetric tree with a trunk of the given length.\"\"\"\n",
    "    # don't draw very small trees\n",
    "    if length < 5:\n",
    "        return\n",
    "    # draw the trunk\n",
    "    forward(length) \n",
    "    # draw the left branch, which is just a smaller tree\n",
    "    left(20)\n",
    "    tree(0.8 * length)\n",
    "    right(20)\n",
    "    # draw the right branch, which is just a smaller tree\n",
    "    right(20)\n",
    "    tree(0.8 * length)\n",
    "    left(20)\n",
    "    # return the turtle to the start position\n",
    "    backward(length)\n",
    "\n",
    "reset()\n",
    "left(90)\n",
    "speed('fastest')\n",
    "tree(20)"
   ]
  },
  {
   "cell_type": "markdown",
   "metadata": {},
   "source": [
    "Here are some suggestions for making the tree look more natural. You may need to consult the [documentation](https://docs.python.org/library/turtle.html) to learn further turtle commands.\n",
    "\n",
    "**Activity:** Change some of the values so that the tree is not symmetric. For example, you can slant the tree towards one side, to make it look like a windswept tree. Experiment with different values.\n",
    "\n",
    "**Activity:** Make the trunk brown and the 'leaves' green.\n",
    "\n",
    "**Activity:** Make the branches get progressively thinner."
   ]
  },
  {
   "cell_type": "markdown",
   "metadata": {},
   "source": [
    "That's all, folks!"
   ]
  },
  {
   "cell_type": "code",
   "execution_count": null,
   "metadata": {
    "collapsed": true
   },
   "outputs": [],
   "source": [
    "bye()"
   ]
  }
 ],
 "metadata": {
  "kernelspec": {
   "display_name": "Python 3",
   "language": "python",
   "name": "python3"
  },
  "language_info": {
   "codemirror_mode": {
    "name": "ipython",
    "version": 3
   },
   "file_extension": ".py",
   "mimetype": "text/x-python",
   "name": "python",
   "nbconvert_exporter": "python",
   "pygments_lexer": "ipython3",
   "version": "3.6.2"
  }
 },
 "nbformat": 4,
 "nbformat_minor": 1
}
