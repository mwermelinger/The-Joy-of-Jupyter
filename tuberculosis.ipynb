{
 "cells": [
  {
   "cell_type": "markdown",
   "metadata": {},
   "source": [
    "# Deaths by tuberculosis\n",
    "\n",
    "This notebook is part of [_The Joy of Jupyter_](https://github.com/mwermelinger/The-Joy-of-Jupyter), which explains how to use and publish Jupyter Notebooks.\n",
    "\n",
    "This notebook is based on the project notebook for Week 1 of [_Learn to Code for Data Analysis_](https://github.com/mwermelinger/Learn-to-code-for-data-analysis).\n",
    "\n",
    "This notebook illustrates how a handful lines of code are enough to load and visualise data from Excel files, select the rows of interest, and do simple computations on columns to analyse the data. "
   ]
  },
  {
   "cell_type": "markdown",
   "metadata": {},
   "source": [
    "## 1. Research questions\n",
    "\n",
    "In 2000, the United Nations set eight Millenium Development Goals (MDGs) to reduce poverty and diseases, improve gender equality and environmental sustainability, etc. Each goal is quantified and time-bound, to be achieved by the end of 2015. Goal 6 is to have halted and started reversing the spread of HIV, malaria and [tuberculosis](https://en.wikipedia.org/wiki/Tuberculosis) (TB).\n",
    "TB doesn't make headlines like Ebola, SARS (severe acute respiratory syndrome) and other epidemics, but is far deadlier. For more information, see the World Health Organisation (WHO) page <http://www.who.int/gho/tb/en/>.\n",
    "\n",
    "Given the population and number of deaths due to TB in some countries during one year, the following questions will be answered: \n",
    "\n",
    "- What is the total, maximum, minimum and average number of deaths in that year?\n",
    "- Which countries have the most and the least deaths?\n",
    "- What is the death rate (deaths per 100,000 inhabitants) for each country?\n",
    "- Which countries have the lowest and highest death rate?\n",
    "\n",
    "The death rate allows for a better comparison of countries with widely different population sizes."
   ]
  },
  {
   "cell_type": "markdown",
   "metadata": {},
   "source": [
    "## 2. The data\n",
    "\n",
    "The data consists of total population and total number of deaths due to TB (excluding HIV) in 2013 in every country.  \n",
    "\n",
    "The data was taken in July 2015 from <http://apps.who.int/gho/data/node.main.POP107?lang=en> (population) and <http://apps.who.int/gho/data/node.main.1317?lang=en> (deaths). The uncertainty bounds of the number of deaths were ignored.\n",
    "\n",
    "The data was collected into an Excel file which should be in the same folder as this notebook."
   ]
  },
  {
   "cell_type": "code",
   "execution_count": 1,
   "metadata": {},
   "outputs": [
    {
     "data": {
      "text/html": [
       "<div>\n",
       "<style>\n",
       "    .dataframe thead tr:only-child th {\n",
       "        text-align: right;\n",
       "    }\n",
       "\n",
       "    .dataframe thead th {\n",
       "        text-align: left;\n",
       "    }\n",
       "\n",
       "    .dataframe tbody tr th {\n",
       "        vertical-align: top;\n",
       "    }\n",
       "</style>\n",
       "<table border=\"1\" class=\"dataframe\">\n",
       "  <thead>\n",
       "    <tr style=\"text-align: right;\">\n",
       "      <th></th>\n",
       "      <th>Country</th>\n",
       "      <th>Population (1000s)</th>\n",
       "      <th>TB deaths</th>\n",
       "    </tr>\n",
       "  </thead>\n",
       "  <tbody>\n",
       "    <tr>\n",
       "      <th>0</th>\n",
       "      <td>Afghanistan</td>\n",
       "      <td>30552</td>\n",
       "      <td>13000.00</td>\n",
       "    </tr>\n",
       "    <tr>\n",
       "      <th>1</th>\n",
       "      <td>Albania</td>\n",
       "      <td>3173</td>\n",
       "      <td>20.00</td>\n",
       "    </tr>\n",
       "    <tr>\n",
       "      <th>2</th>\n",
       "      <td>Algeria</td>\n",
       "      <td>39208</td>\n",
       "      <td>5100.00</td>\n",
       "    </tr>\n",
       "    <tr>\n",
       "      <th>3</th>\n",
       "      <td>Andorra</td>\n",
       "      <td>79</td>\n",
       "      <td>0.26</td>\n",
       "    </tr>\n",
       "    <tr>\n",
       "      <th>4</th>\n",
       "      <td>Angola</td>\n",
       "      <td>21472</td>\n",
       "      <td>6900.00</td>\n",
       "    </tr>\n",
       "  </tbody>\n",
       "</table>\n",
       "</div>"
      ],
      "text/plain": [
       "       Country  Population (1000s)  TB deaths\n",
       "0  Afghanistan               30552   13000.00\n",
       "1      Albania                3173      20.00\n",
       "2      Algeria               39208    5100.00\n",
       "3      Andorra                  79       0.26\n",
       "4       Angola               21472    6900.00"
      ]
     },
     "execution_count": 1,
     "metadata": {},
     "output_type": "execute_result"
    }
   ],
   "source": [
    "from pandas import *\n",
    "world = read_excel('WHO POP TB.xls')\n",
    "world.head()"
   ]
  },
  {
   "cell_type": "markdown",
   "metadata": {},
   "source": [
    "**Activity:** In the paragraph above, click on one of the links to the source data (population or deaths). For the countries shown in the table, compare the values in the table to the values on the WHO site for the year 2013. You will notice that some may be the same, but others can be quite different. The reason is that many of the values are estimates, and WHO updates the estimates, even for past years, as it collects more data.  \n",
    "\n",
    "**Activity:** In the code cell above, change `head()` to `head(3)` or some other number. Press Ctrl-Enter (or click the play button in the menu bar) to run the cell. You should now see only the first 3 rows of the table. Then replace `head` by `tail` to see the _last_ 3 rows of the table. Don't forget to press Ctrl-Enter to run the code after you changed it."
   ]
  },
  {
   "cell_type": "markdown",
   "metadata": {},
   "source": [
    "The analysis will be restricted to the [BRICS countries](https://en.wikipedia.org/wiki/BRICS): Brazil, Russia, India, China, South Africa."
   ]
  },
  {
   "cell_type": "code",
   "execution_count": 2,
   "metadata": {},
   "outputs": [
    {
     "data": {
      "text/html": [
       "<div>\n",
       "<style>\n",
       "    .dataframe thead tr:only-child th {\n",
       "        text-align: right;\n",
       "    }\n",
       "\n",
       "    .dataframe thead th {\n",
       "        text-align: left;\n",
       "    }\n",
       "\n",
       "    .dataframe tbody tr th {\n",
       "        vertical-align: top;\n",
       "    }\n",
       "</style>\n",
       "<table border=\"1\" class=\"dataframe\">\n",
       "  <thead>\n",
       "    <tr style=\"text-align: right;\">\n",
       "      <th></th>\n",
       "      <th>Country</th>\n",
       "      <th>Population (1000s)</th>\n",
       "      <th>TB deaths</th>\n",
       "    </tr>\n",
       "  </thead>\n",
       "  <tbody>\n",
       "    <tr>\n",
       "      <th>23</th>\n",
       "      <td>Brazil</td>\n",
       "      <td>200362</td>\n",
       "      <td>4400.0</td>\n",
       "    </tr>\n",
       "    <tr>\n",
       "      <th>36</th>\n",
       "      <td>China</td>\n",
       "      <td>1393337</td>\n",
       "      <td>41000.0</td>\n",
       "    </tr>\n",
       "    <tr>\n",
       "      <th>77</th>\n",
       "      <td>India</td>\n",
       "      <td>1252140</td>\n",
       "      <td>240000.0</td>\n",
       "    </tr>\n",
       "    <tr>\n",
       "      <th>141</th>\n",
       "      <td>Russian Federation</td>\n",
       "      <td>142834</td>\n",
       "      <td>17000.0</td>\n",
       "    </tr>\n",
       "    <tr>\n",
       "      <th>159</th>\n",
       "      <td>South Africa</td>\n",
       "      <td>52776</td>\n",
       "      <td>25000.0</td>\n",
       "    </tr>\n",
       "  </tbody>\n",
       "</table>\n",
       "</div>"
      ],
      "text/plain": [
       "                Country  Population (1000s)  TB deaths\n",
       "23               Brazil              200362     4400.0\n",
       "36                China             1393337    41000.0\n",
       "77                India             1252140   240000.0\n",
       "141  Russian Federation              142834    17000.0\n",
       "159        South Africa               52776    25000.0"
      ]
     },
     "execution_count": 2,
     "metadata": {},
     "output_type": "execute_result"
    }
   ],
   "source": [
    "countries = ['Brazil', 'Russian Federation', 'India', 'China', 'South Africa']\n",
    "rows = world['Country'].isin(countries)\n",
    "selection = world[rows]\n",
    "selection"
   ]
  },
  {
   "cell_type": "markdown",
   "metadata": {},
   "source": [
    "## 3. The range of the problem\n",
    "\n",
    "The values of interest are in the right-most column."
   ]
  },
  {
   "cell_type": "code",
   "execution_count": 3,
   "metadata": {
    "collapsed": true
   },
   "outputs": [],
   "source": [
    "tbSelected = selection['TB deaths']"
   ]
  },
  {
   "cell_type": "markdown",
   "metadata": {},
   "source": [
    "The total number of deaths in 2013 is:"
   ]
  },
  {
   "cell_type": "code",
   "execution_count": 4,
   "metadata": {},
   "outputs": [
    {
     "data": {
      "text/plain": [
       "327400.0"
      ]
     },
     "execution_count": 4,
     "metadata": {},
     "output_type": "execute_result"
    }
   ],
   "source": [
    "tbSelected.sum()"
   ]
  },
  {
   "cell_type": "markdown",
   "metadata": {},
   "source": [
    "The largest and smallest number of deaths in a single country are:"
   ]
  },
  {
   "cell_type": "code",
   "execution_count": 5,
   "metadata": {},
   "outputs": [
    {
     "data": {
      "text/plain": [
       "240000.0"
      ]
     },
     "execution_count": 5,
     "metadata": {},
     "output_type": "execute_result"
    }
   ],
   "source": [
    "tbSelected.max()"
   ]
  },
  {
   "cell_type": "code",
   "execution_count": 6,
   "metadata": {},
   "outputs": [
    {
     "data": {
      "text/plain": [
       "4400.0"
      ]
     },
     "execution_count": 6,
     "metadata": {},
     "output_type": "execute_result"
    }
   ],
   "source": [
    "tbSelected.min()"
   ]
  },
  {
   "cell_type": "markdown",
   "metadata": {},
   "source": [
    "The average number of deaths per country can give a better idea of the seriousness of the problem in each country.\n",
    "The average can be computed as the mean or the median. \n",
    "The **mean** is the total of deaths divided by the number of countries.\n",
    "There is one country per row, so the number of rows is the number of rows, which is the length of the table."
   ]
  },
  {
   "cell_type": "code",
   "execution_count": 7,
   "metadata": {},
   "outputs": [
    {
     "data": {
      "text/plain": [
       "65480.0"
      ]
     },
     "execution_count": 7,
     "metadata": {},
     "output_type": "execute_result"
    }
   ],
   "source": [
    "tbSelected.sum() / len(tbSelected)"
   ]
  },
  {
   "cell_type": "markdown",
   "metadata": {},
   "source": [
    "There is an operation that calculates the mean directly."
   ]
  },
  {
   "cell_type": "code",
   "execution_count": 8,
   "metadata": {},
   "outputs": [
    {
     "data": {
      "text/plain": [
       "65480.0"
      ]
     },
     "execution_count": 8,
     "metadata": {},
     "output_type": "execute_result"
    }
   ],
   "source": [
    "tbSelected.mean()"
   ]
  },
  {
   "cell_type": "markdown",
   "metadata": {},
   "source": [
    "The **median** is another way of measuring what is average.\n",
    "The median is the value in the middle of the range. Half of the values are below the median, half are above."
   ]
  },
  {
   "cell_type": "code",
   "execution_count": 9,
   "metadata": {},
   "outputs": [
    {
     "data": {
      "text/plain": [
       "25000.0"
      ]
     },
     "execution_count": 9,
     "metadata": {},
     "output_type": "execute_result"
    }
   ],
   "source": [
    "tbSelected.median()"
   ]
  },
  {
   "cell_type": "markdown",
   "metadata": {},
   "source": [
    "The median is far lower than the mean. This indicates that some of the countries had a very high number of TB deaths in 2013, pushing the value of the mean up. Given the wide range of deaths (see the minimum and maximum values), the median is probably a more sensible average measure."
   ]
  },
  {
   "cell_type": "markdown",
   "metadata": {},
   "source": [
    "## 4. The most affected\n",
    "\n",
    "To see the most affected countries, the table is sorted in ascending order by the 'TB deaths' column, which puts those countries in the last rows."
   ]
  },
  {
   "cell_type": "code",
   "execution_count": 10,
   "metadata": {},
   "outputs": [
    {
     "data": {
      "text/html": [
       "<div>\n",
       "<style>\n",
       "    .dataframe thead tr:only-child th {\n",
       "        text-align: right;\n",
       "    }\n",
       "\n",
       "    .dataframe thead th {\n",
       "        text-align: left;\n",
       "    }\n",
       "\n",
       "    .dataframe tbody tr th {\n",
       "        vertical-align: top;\n",
       "    }\n",
       "</style>\n",
       "<table border=\"1\" class=\"dataframe\">\n",
       "  <thead>\n",
       "    <tr style=\"text-align: right;\">\n",
       "      <th></th>\n",
       "      <th>Country</th>\n",
       "      <th>Population (1000s)</th>\n",
       "      <th>TB deaths</th>\n",
       "    </tr>\n",
       "  </thead>\n",
       "  <tbody>\n",
       "    <tr>\n",
       "      <th>23</th>\n",
       "      <td>Brazil</td>\n",
       "      <td>200362</td>\n",
       "      <td>4400.0</td>\n",
       "    </tr>\n",
       "    <tr>\n",
       "      <th>141</th>\n",
       "      <td>Russian Federation</td>\n",
       "      <td>142834</td>\n",
       "      <td>17000.0</td>\n",
       "    </tr>\n",
       "    <tr>\n",
       "      <th>159</th>\n",
       "      <td>South Africa</td>\n",
       "      <td>52776</td>\n",
       "      <td>25000.0</td>\n",
       "    </tr>\n",
       "    <tr>\n",
       "      <th>36</th>\n",
       "      <td>China</td>\n",
       "      <td>1393337</td>\n",
       "      <td>41000.0</td>\n",
       "    </tr>\n",
       "    <tr>\n",
       "      <th>77</th>\n",
       "      <td>India</td>\n",
       "      <td>1252140</td>\n",
       "      <td>240000.0</td>\n",
       "    </tr>\n",
       "  </tbody>\n",
       "</table>\n",
       "</div>"
      ],
      "text/plain": [
       "                Country  Population (1000s)  TB deaths\n",
       "23               Brazil              200362     4400.0\n",
       "141  Russian Federation              142834    17000.0\n",
       "159        South Africa               52776    25000.0\n",
       "36                China             1393337    41000.0\n",
       "77                India             1252140   240000.0"
      ]
     },
     "execution_count": 10,
     "metadata": {},
     "output_type": "execute_result"
    }
   ],
   "source": [
    "selection.sort_values('TB deaths')"
   ]
  },
  {
   "cell_type": "markdown",
   "metadata": {},
   "source": [
    "It is also possible to sort the table in descending order, so that the most affected country comes first."
   ]
  },
  {
   "cell_type": "code",
   "execution_count": 11,
   "metadata": {},
   "outputs": [
    {
     "data": {
      "text/html": [
       "<div>\n",
       "<style>\n",
       "    .dataframe thead tr:only-child th {\n",
       "        text-align: right;\n",
       "    }\n",
       "\n",
       "    .dataframe thead th {\n",
       "        text-align: left;\n",
       "    }\n",
       "\n",
       "    .dataframe tbody tr th {\n",
       "        vertical-align: top;\n",
       "    }\n",
       "</style>\n",
       "<table border=\"1\" class=\"dataframe\">\n",
       "  <thead>\n",
       "    <tr style=\"text-align: right;\">\n",
       "      <th></th>\n",
       "      <th>Country</th>\n",
       "      <th>Population (1000s)</th>\n",
       "      <th>TB deaths</th>\n",
       "    </tr>\n",
       "  </thead>\n",
       "  <tbody>\n",
       "    <tr>\n",
       "      <th>77</th>\n",
       "      <td>India</td>\n",
       "      <td>1252140</td>\n",
       "      <td>240000.0</td>\n",
       "    </tr>\n",
       "    <tr>\n",
       "      <th>36</th>\n",
       "      <td>China</td>\n",
       "      <td>1393337</td>\n",
       "      <td>41000.0</td>\n",
       "    </tr>\n",
       "    <tr>\n",
       "      <th>159</th>\n",
       "      <td>South Africa</td>\n",
       "      <td>52776</td>\n",
       "      <td>25000.0</td>\n",
       "    </tr>\n",
       "    <tr>\n",
       "      <th>141</th>\n",
       "      <td>Russian Federation</td>\n",
       "      <td>142834</td>\n",
       "      <td>17000.0</td>\n",
       "    </tr>\n",
       "    <tr>\n",
       "      <th>23</th>\n",
       "      <td>Brazil</td>\n",
       "      <td>200362</td>\n",
       "      <td>4400.0</td>\n",
       "    </tr>\n",
       "  </tbody>\n",
       "</table>\n",
       "</div>"
      ],
      "text/plain": [
       "                Country  Population (1000s)  TB deaths\n",
       "77                India             1252140   240000.0\n",
       "36                China             1393337    41000.0\n",
       "159        South Africa               52776    25000.0\n",
       "141  Russian Federation              142834    17000.0\n",
       "23               Brazil              200362     4400.0"
      ]
     },
     "execution_count": 11,
     "metadata": {},
     "output_type": "execute_result"
    }
   ],
   "source": [
    "selection.sort_values('TB deaths', ascending=False)"
   ]
  },
  {
   "cell_type": "markdown",
   "metadata": {},
   "source": [
    "Looking at the table, there's the possibility that a large number of deaths may be partly due to a large population. To compare the countries on an equal footing, the death rate per 100,000 inhabitants is computed for all countries and added as a new column. Finally, the same countries (rows) as before are selected."
   ]
  },
  {
   "cell_type": "code",
   "execution_count": 12,
   "metadata": {},
   "outputs": [
    {
     "data": {
      "text/html": [
       "<div>\n",
       "<style>\n",
       "    .dataframe thead tr:only-child th {\n",
       "        text-align: right;\n",
       "    }\n",
       "\n",
       "    .dataframe thead th {\n",
       "        text-align: left;\n",
       "    }\n",
       "\n",
       "    .dataframe tbody tr th {\n",
       "        vertical-align: top;\n",
       "    }\n",
       "</style>\n",
       "<table border=\"1\" class=\"dataframe\">\n",
       "  <thead>\n",
       "    <tr style=\"text-align: right;\">\n",
       "      <th></th>\n",
       "      <th>Country</th>\n",
       "      <th>Population (1000s)</th>\n",
       "      <th>TB deaths</th>\n",
       "      <th>TB deaths (per 100,000)</th>\n",
       "    </tr>\n",
       "  </thead>\n",
       "  <tbody>\n",
       "    <tr>\n",
       "      <th>23</th>\n",
       "      <td>Brazil</td>\n",
       "      <td>200362</td>\n",
       "      <td>4400.0</td>\n",
       "      <td>2.196025</td>\n",
       "    </tr>\n",
       "    <tr>\n",
       "      <th>36</th>\n",
       "      <td>China</td>\n",
       "      <td>1393337</td>\n",
       "      <td>41000.0</td>\n",
       "      <td>2.942576</td>\n",
       "    </tr>\n",
       "    <tr>\n",
       "      <th>77</th>\n",
       "      <td>India</td>\n",
       "      <td>1252140</td>\n",
       "      <td>240000.0</td>\n",
       "      <td>19.167186</td>\n",
       "    </tr>\n",
       "    <tr>\n",
       "      <th>141</th>\n",
       "      <td>Russian Federation</td>\n",
       "      <td>142834</td>\n",
       "      <td>17000.0</td>\n",
       "      <td>11.901928</td>\n",
       "    </tr>\n",
       "    <tr>\n",
       "      <th>159</th>\n",
       "      <td>South Africa</td>\n",
       "      <td>52776</td>\n",
       "      <td>25000.0</td>\n",
       "      <td>47.370017</td>\n",
       "    </tr>\n",
       "  </tbody>\n",
       "</table>\n",
       "</div>"
      ],
      "text/plain": [
       "                Country  Population (1000s)  TB deaths  \\\n",
       "23               Brazil              200362     4400.0   \n",
       "36                China             1393337    41000.0   \n",
       "77                India             1252140   240000.0   \n",
       "141  Russian Federation              142834    17000.0   \n",
       "159        South Africa               52776    25000.0   \n",
       "\n",
       "     TB deaths (per 100,000)  \n",
       "23                  2.196025  \n",
       "36                  2.942576  \n",
       "77                 19.167186  \n",
       "141                11.901928  \n",
       "159                47.370017  "
      ]
     },
     "execution_count": 12,
     "metadata": {},
     "output_type": "execute_result"
    }
   ],
   "source": [
    "tbAll = world['TB deaths']\n",
    "populationAll = world['Population (1000s)']\n",
    "world['TB deaths (per 100,000)'] = tbAll / (populationAll / 100)\n",
    "selection = world[rows]\n",
    "selection"
   ]
  },
  {
   "cell_type": "markdown",
   "metadata": {},
   "source": [
    "**Activity:** Change the last line of code in the above cell so that the table shows the countries in descending order, by death rate."
   ]
  },
  {
   "cell_type": "markdown",
   "metadata": {},
   "source": [
    "The difference between the countries can be seen with a bar chart."
   ]
  },
  {
   "cell_type": "code",
   "execution_count": 13,
   "metadata": {},
   "outputs": [
    {
     "data": {
      "text/plain": [
       "<matplotlib.axes._subplots.AxesSubplot at 0x109da1e10>"
      ]
     },
     "execution_count": 13,
     "metadata": {},
     "output_type": "execute_result"
    },
    {
     "data": {
      "image/png": "[encoded data removed]",
      "text/plain": [
       "<matplotlib.figure.Figure at 0x109d77978>"
      ]
     },
     "metadata": {},
     "output_type": "display_data"
    }
   ],
   "source": [
    "%matplotlib inline\n",
    "selection.plot(kind='bar', x='Country', y='TB deaths')"
   ]
  },
  {
   "cell_type": "markdown",
   "metadata": {},
   "source": [
    "**Activity:** Change `'bar'` to `'barh'` to get a horizontal bar chart, then change to `'line'` to see a line chart. \n",
    "Does a line chart make sense for this data?\n",
    "\n",
    "**Activity:** Set kind to `'scatter'` and x to `'Population (1000s)'`. Is there a relationship between population and deaths, i.e. do larger countries have more deaths by TB?"
   ]
  },
  {
   "cell_type": "markdown",
   "metadata": {},
   "source": [
    "## 5. Conclusions\n",
    "\n",
    "The BRICS countries had a total of almost 330 thousand deaths due to tuberculosis in 2013. The median shows that half of these countries had 25,000 deaths or less. The much higher mean (over 65,000) indicates that some countries had a very high number. The least affected was Brazil, with 4400 deaths, and the most affected was India with 240 thousand deaths in a single year. However, taking the population size into account, the least affected was Brazil with less than 2.2 deaths per 100 thousand inhabitants, and the most affected was South Africa with over 47 deaths per 100,000 inhabitants.\n",
    "\n",
    "One should not forget that the mortality values are estimates, and that the chosen countries are a small sample of all the world's countries. Nevertheless, they convey the message that tuberculosis is still a major cause of fatalities, and that there is a huge disparity between countries, with some being highly affected."
   ]
  },
  {
   "cell_type": "markdown",
   "metadata": {},
   "source": [
    "## 6. Extensions\n",
    "\n",
    "Now that you've seen the whole analysis, you can adapt it to your interests. Here are some suggestions. If you publish your changed notebook for others to see, you need to abide by [_The Joy of Jupyter_](https://github.com/mwermelinger/The-Joy-of-Jupyter)'s license.\n",
    "\n",
    "### 6.1 Different countries\n",
    "\n",
    "Instead of the BRICS countries, analyse those you are interested in, e.g. countries you have visited or where you have friends and family. You will have to use the same country name as in the Excel file, e.g. the official name of the UK is 'United Kingdom of Great Britain and Northern Ireland'. You may wish to keep at least one of the BRICS countries, so that you can make comparisons. What code needs to be changed in order to analyse other countries? \n",
    "\n",
    "After you have changed the code, click on 'Run All' in the Cell menu and go through the notebook to see how the results changed. Discuss the results with your colleagues. Don't forget to change the conclusions text so that it reflects the new choice of countries.\n",
    "\n",
    "### 6.2 All countries\n",
    "\n",
    "The Excel file includes all the world's countries. Change the code so that the selection is all countries. Then run all the code and change the conclusions accordingly. \n",
    "\n",
    "### 6.3 More recent data\n",
    "\n",
    "The provided Excel file has data about 2013. Follow the links to the population and TB deaths pages on the WHO website, and download the most recent data. You will have two files, each with several columns. Use Excel to create a file that has the 3 columns needed for the analysis: countries, population in thousands and TB deaths. Change the code to read your file instead of ours, run all cells, and change the conclusions as needed.\n",
    "\n",
    "### 6.4 Comparative analysis\n",
    "\n",
    "You can of course duplicate the code so that it loads both Excel files and analyses the 2013 _and_ the more recent data in the same notebook. Your conclusions can then reflect on whether the overall situation improved, if it deteriorated in some countries, etc.\n",
    "\n",
    "### 6.5 Something completely different\n",
    "\n",
    "Search online for open data on some topic that interests you. It can be data about the whole world, a single country, or even data from your local council about where you live. See if they provide the data in Excel or CSV format. CSV files can be opened in Excel and then saved as Excel files. Change this notebook so that it uses the column names of the file you downloaded."
   ]
  }
 ],
 "metadata": {
  "kernelspec": {
   "display_name": "Python 3",
   "language": "python",
   "name": "python3"
  },
  "language_info": {
   "codemirror_mode": {
    "name": "ipython",
    "version": 3
   },
   "file_extension": ".py",
   "mimetype": "text/x-python",
   "name": "python",
   "nbconvert_exporter": "python",
   "pygments_lexer": "ipython3",
   "version": "3.6.2"
  }
 },
 "nbformat": 4,
 "nbformat_minor": 1
}
